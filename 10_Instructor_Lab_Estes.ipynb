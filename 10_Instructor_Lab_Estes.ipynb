{
 "cells": [
  {
   "cell_type": "markdown",
   "id": "f13a273b-d268-4476-bc62-27115a285d1a",
   "metadata": {},
   "source": [
    "# Week 10: Instructor Led Lab\n",
    "Author: Jen Estes \\\n",
    "Course: BGEN 632 - Introduction to Python \\\n",
    "Term: Spring 2025 \\\n",
    "Due Date: May 7th, 2025 \n",
    "\n",
    "This notebook contains code for the inspection and organization of data based on the requirements outlined by Dr. Newton in the BGEN632 Week 10 GitHub repo. While using data from survey responses of 61 randomly selected hospitals in California, this program conducts a Principal Component Analysis (PCA) and a k-means cluster analysis to provide suggestions for the team working on assessing the condition of the healthcare system in California.\n",
    "\n",
    "### Importing Modules\n",
    "----"
   ]
  },
  {
   "cell_type": "code",
   "execution_count": 247,
   "id": "8ee4672d-5708-4eca-8494-ee0edcd5fa1a",
   "metadata": {},
   "outputs": [],
   "source": [
    "import os\n",
    "import numpy as np\n",
    "import pandas as pd\n",
    "import matplotlib.pyplot as plt\n",
    "\n",
    "from sklearn.model_selection import train_test_split\n",
    "\n",
    "# for pca\n",
    "from sklearn import preprocessing\n",
    "from sklearn.decomposition import PCA as pca\n",
    "\n",
    "# for factor analysis\n",
    "from factor_analyzer import FactorAnalyzer\n",
    "from factor_analyzer.factor_analyzer import calculate_bartlett_sphericity\n",
    "from factor_analyzer.factor_analyzer import calculate_kmo\n",
    "\n",
    "# for k-means clustering \n",
    "import sklearn.metrics as metcs\n",
    "from scipy.cluster import hierarchy as hier\n",
    "from sklearn import cluster as cls\n",
    "\n",
    "# for decision tree \n",
    "from sklearn.feature_extraction.image import grid_to_graph\n",
    "from sklearn import tree\n",
    "\n",
    "# modules for plotting trees\n",
    "from sklearn.tree import export_graphviz\n",
    "import graphviz\n",
    "from IPython.display import display"
   ]
  },
  {
   "cell_type": "markdown",
   "id": "86f0abea-ac56-4ba0-afa9-68fcd1b7e2e0",
   "metadata": {},
   "source": [
    "### Set Working Directory"
   ]
  },
  {
   "cell_type": "code",
   "execution_count": 250,
   "id": "7c58b38d-6bce-40d7-b78a-0318537e58ae",
   "metadata": {},
   "outputs": [
    {
     "data": {
      "text/plain": [
       "'/Users/jenestes/Desktop/week10labs/data'"
      ]
     },
     "execution_count": 250,
     "metadata": {},
     "output_type": "execute_result"
    }
   ],
   "source": [
    "# set working directory\n",
    "os.chdir(\"/Users/jenestes/Desktop/week10labs/data\")  # change this to your filepath\n",
    "os.getcwd()  # confirm change"
   ]
  },
  {
   "cell_type": "markdown",
   "id": "5b27fec7-6f1e-466a-8d1e-2001abc3f7bb",
   "metadata": {},
   "source": [
    "### Load Data"
   ]
  },
  {
   "cell_type": "code",
   "execution_count": 253,
   "id": "edf0ce47-4771-491a-be5b-396d0cad8963",
   "metadata": {},
   "outputs": [
    {
     "name": "stdout",
     "output_type": "stream",
     "text": [
      "<class 'pandas.core.frame.DataFrame'>\n",
      "RangeIndex: 61 entries, 0 to 60\n",
      "Data columns (total 23 columns):\n",
      " #   Column         Non-Null Count  Dtype  \n",
      "---  ------         --------------  -----  \n",
      " 0   HospitalID     61 non-null     int64  \n",
      " 1   Name           61 non-null     object \n",
      " 2   Zip            61 non-null     object \n",
      " 3   Website        61 non-null     object \n",
      " 4   TypeControl    61 non-null     object \n",
      " 5   Teaching       61 non-null     object \n",
      " 6   DonorType      61 non-null     object \n",
      " 7   NoFTE          61 non-null     float64\n",
      " 8   NetPatRev      61 non-null     float64\n",
      " 9   InOperExp      61 non-null     float64\n",
      " 10  OutOperExp     61 non-null     float64\n",
      " 11  OperRev        61 non-null     int64  \n",
      " 12  OperInc        61 non-null     int64  \n",
      " 13  AvlBeds        61 non-null     int64  \n",
      " 14  Work_ID        61 non-null     int64  \n",
      " 15  LastName       61 non-null     object \n",
      " 16  FirstName      61 non-null     object \n",
      " 17  Gender         61 non-null     object \n",
      " 18  PositionID     61 non-null     int64  \n",
      " 19  PositionTitle  61 non-null     object \n",
      " 20  Compensation   61 non-null     int64  \n",
      " 21  MaxTerm        61 non-null     int64  \n",
      " 22  StartDate      61 non-null     object \n",
      "dtypes: float64(4), int64(8), object(11)\n",
      "memory usage: 11.1+ KB\n"
     ]
    }
   ],
   "source": [
    "# Load Data \n",
    "# Hospital Data\n",
    "hospital_data = pd.read_csv(\"calihospital.txt\", delimiter = \"\\t\")\n",
    "hospital_data.info()"
   ]
  },
  {
   "cell_type": "markdown",
   "id": "8abeb823-ab40-4c71-a4db-9382ef68de8a",
   "metadata": {},
   "source": [
    "### Creating New DataFrames"
   ]
  },
  {
   "cell_type": "code",
   "execution_count": 256,
   "id": "cf57da73-0a52-424f-b187-f0ab6007a21b",
   "metadata": {},
   "outputs": [
    {
     "data": {
      "text/html": [
       "<div>\n",
       "<style scoped>\n",
       "    .dataframe tbody tr th:only-of-type {\n",
       "        vertical-align: middle;\n",
       "    }\n",
       "\n",
       "    .dataframe tbody tr th {\n",
       "        vertical-align: top;\n",
       "    }\n",
       "\n",
       "    .dataframe thead th {\n",
       "        text-align: right;\n",
       "    }\n",
       "</style>\n",
       "<table border=\"1\" class=\"dataframe\">\n",
       "  <thead>\n",
       "    <tr style=\"text-align: right;\">\n",
       "      <th></th>\n",
       "      <th>HospitalID</th>\n",
       "      <th>Name</th>\n",
       "      <th>Zip</th>\n",
       "      <th>Website</th>\n",
       "      <th>TypeControl</th>\n",
       "      <th>Teaching</th>\n",
       "      <th>DonorType</th>\n",
       "      <th>NoFTE</th>\n",
       "      <th>NetPatRev</th>\n",
       "      <th>InOperExp</th>\n",
       "      <th>...</th>\n",
       "      <th>AvlBeds</th>\n",
       "      <th>Work_ID</th>\n",
       "      <th>LastName</th>\n",
       "      <th>FirstName</th>\n",
       "      <th>Gender</th>\n",
       "      <th>PositionID</th>\n",
       "      <th>PositionTitle</th>\n",
       "      <th>Compensation</th>\n",
       "      <th>MaxTerm</th>\n",
       "      <th>StartDate</th>\n",
       "    </tr>\n",
       "  </thead>\n",
       "  <tbody>\n",
       "    <tr>\n",
       "      <th>0</th>\n",
       "      <td>45740</td>\n",
       "      <td>Mammoth Hospital</td>\n",
       "      <td>93546-0660</td>\n",
       "      <td>www.mammothhospital.com</td>\n",
       "      <td>District</td>\n",
       "      <td>Small/Rural</td>\n",
       "      <td>Charity</td>\n",
       "      <td>327.0</td>\n",
       "      <td>135520.2186</td>\n",
       "      <td>20523425.53</td>\n",
       "      <td>...</td>\n",
       "      <td>15</td>\n",
       "      <td>721586</td>\n",
       "      <td>Web</td>\n",
       "      <td>David</td>\n",
       "      <td>M</td>\n",
       "      <td>4</td>\n",
       "      <td>Safety Inspection Member</td>\n",
       "      <td>23987</td>\n",
       "      <td>2</td>\n",
       "      <td>1/1/2012</td>\n",
       "    </tr>\n",
       "    <tr>\n",
       "      <th>1</th>\n",
       "      <td>12145</td>\n",
       "      <td>Victor Valley Community Hospital</td>\n",
       "      <td>92392</td>\n",
       "      <td>www.vvch.org</td>\n",
       "      <td>Non Profit</td>\n",
       "      <td>Small/Rural</td>\n",
       "      <td>Charity</td>\n",
       "      <td>345.0</td>\n",
       "      <td>136156.6913</td>\n",
       "      <td>33447542.78</td>\n",
       "      <td>...</td>\n",
       "      <td>99</td>\n",
       "      <td>756481</td>\n",
       "      <td>Rodriguez</td>\n",
       "      <td>Jose</td>\n",
       "      <td>M</td>\n",
       "      <td>1</td>\n",
       "      <td>Regional Representative</td>\n",
       "      <td>46978</td>\n",
       "      <td>4</td>\n",
       "      <td>1/1/2009</td>\n",
       "    </tr>\n",
       "    <tr>\n",
       "      <th>2</th>\n",
       "      <td>25667</td>\n",
       "      <td>Pioneers Memorial Hospital</td>\n",
       "      <td>92227</td>\n",
       "      <td>www.pmhd.org</td>\n",
       "      <td>District</td>\n",
       "      <td>Small/Rural</td>\n",
       "      <td>Charity</td>\n",
       "      <td>601.2</td>\n",
       "      <td>197094.2541</td>\n",
       "      <td>37254178.67</td>\n",
       "      <td>...</td>\n",
       "      <td>107</td>\n",
       "      <td>926378</td>\n",
       "      <td>Adamson</td>\n",
       "      <td>David</td>\n",
       "      <td>M</td>\n",
       "      <td>1</td>\n",
       "      <td>Regional Representative</td>\n",
       "      <td>46978</td>\n",
       "      <td>4</td>\n",
       "      <td>1/1/2012</td>\n",
       "    </tr>\n",
       "    <tr>\n",
       "      <th>3</th>\n",
       "      <td>46996</td>\n",
       "      <td>Ridgecrest Regional Hospital</td>\n",
       "      <td>93555</td>\n",
       "      <td>www.rrh.org</td>\n",
       "      <td>Non Profit</td>\n",
       "      <td>Small/Rural</td>\n",
       "      <td>Charity</td>\n",
       "      <td>400.0</td>\n",
       "      <td>139170.3798</td>\n",
       "      <td>23385570.10</td>\n",
       "      <td>...</td>\n",
       "      <td>55</td>\n",
       "      <td>856720</td>\n",
       "      <td>Roberts</td>\n",
       "      <td>Melissa</td>\n",
       "      <td>F</td>\n",
       "      <td>4</td>\n",
       "      <td>Safety Inspection Member</td>\n",
       "      <td>23987</td>\n",
       "      <td>2</td>\n",
       "      <td>1/1/2009</td>\n",
       "    </tr>\n",
       "    <tr>\n",
       "      <th>4</th>\n",
       "      <td>37393</td>\n",
       "      <td>Barstow Community Hospital</td>\n",
       "      <td>92311</td>\n",
       "      <td>www.barstowhospital.com</td>\n",
       "      <td>Investor</td>\n",
       "      <td>Small/Rural</td>\n",
       "      <td>Charity</td>\n",
       "      <td>262.0</td>\n",
       "      <td>116797.8306</td>\n",
       "      <td>13684502.49</td>\n",
       "      <td>...</td>\n",
       "      <td>42</td>\n",
       "      <td>909709</td>\n",
       "      <td>Iwata</td>\n",
       "      <td>Akira</td>\n",
       "      <td>M</td>\n",
       "      <td>1</td>\n",
       "      <td>Regional Representative</td>\n",
       "      <td>46978</td>\n",
       "      <td>4</td>\n",
       "      <td>1/1/2011</td>\n",
       "    </tr>\n",
       "  </tbody>\n",
       "</table>\n",
       "<p>5 rows × 23 columns</p>\n",
       "</div>"
      ],
      "text/plain": [
       "   HospitalID                              Name         Zip  \\\n",
       "0       45740                  Mammoth Hospital  93546-0660   \n",
       "1       12145  Victor Valley Community Hospital       92392   \n",
       "2       25667        Pioneers Memorial Hospital       92227   \n",
       "3       46996      Ridgecrest Regional Hospital       93555   \n",
       "4       37393        Barstow Community Hospital       92311   \n",
       "\n",
       "                   Website TypeControl     Teaching DonorType  NoFTE  \\\n",
       "0  www.mammothhospital.com    District  Small/Rural   Charity  327.0   \n",
       "1             www.vvch.org  Non Profit  Small/Rural   Charity  345.0   \n",
       "2             www.pmhd.org    District  Small/Rural   Charity  601.2   \n",
       "3              www.rrh.org  Non Profit  Small/Rural   Charity  400.0   \n",
       "4  www.barstowhospital.com    Investor  Small/Rural   Charity  262.0   \n",
       "\n",
       "     NetPatRev    InOperExp  ...  AvlBeds  Work_ID   LastName  FirstName  \\\n",
       "0  135520.2186  20523425.53  ...       15   721586        Web      David   \n",
       "1  136156.6913  33447542.78  ...       99   756481  Rodriguez       Jose   \n",
       "2  197094.2541  37254178.67  ...      107   926378    Adamson      David   \n",
       "3  139170.3798  23385570.10  ...       55   856720    Roberts    Melissa   \n",
       "4  116797.8306  13684502.49  ...       42   909709      Iwata      Akira   \n",
       "\n",
       "   Gender PositionID             PositionTitle Compensation  MaxTerm StartDate  \n",
       "0       M          4  Safety Inspection Member        23987        2  1/1/2012  \n",
       "1       M          1   Regional Representative        46978        4  1/1/2009  \n",
       "2       M          1   Regional Representative        46978        4  1/1/2012  \n",
       "3       F          4  Safety Inspection Member        23987        2  1/1/2009  \n",
       "4       M          1   Regional Representative        46978        4  1/1/2011  \n",
       "\n",
       "[5 rows x 23 columns]"
      ]
     },
     "execution_count": 256,
     "metadata": {},
     "output_type": "execute_result"
    }
   ],
   "source": [
    "hospital_data.head()"
   ]
  },
  {
   "cell_type": "code",
   "execution_count": 258,
   "id": "141e1749-c03a-458d-bbb6-0b5319fd2079",
   "metadata": {},
   "outputs": [
    {
     "data": {
      "text/plain": [
       "<bound method DataFrame.info of      NoFTE     NetPatRev     InOperExp    OutOperExp     OperRev    OperInc  \\\n",
       "0    327.0  1.355202e+05  2.052343e+07  3.491622e+07    49933713   -5505933   \n",
       "1    345.0  1.361567e+05  3.344754e+07  2.034860e+07    53351748    -444391   \n",
       "2    601.2  1.970943e+05  3.725418e+07  3.783245e+07    72933707   -2152920   \n",
       "3    400.0  1.391704e+05  2.338557e+07  2.466136e+07    51087341    3040415   \n",
       "4    262.0  1.167978e+05  1.368450e+07  1.515999e+07    42845642   14001153   \n",
       "..     ...           ...           ...           ...         ...        ...   \n",
       "56  2814.0  1.321032e+06  3.791029e+08  1.064302e+08   491523782    5990693   \n",
       "57  5218.0  1.187022e+06  2.912481e+08  1.093286e+08   439084836   38508125   \n",
       "58  6392.0  4.333934e+06  9.289621e+08  6.621559e+08  1650391999   59273999   \n",
       "59  1565.1  2.736281e+06  6.337903e+08  2.960207e+08  1074256998  144445998   \n",
       "60  8000.0  4.662582e+06  1.285631e+09  4.616758e+08  1912179417  164872413   \n",
       "\n",
       "    AvlBeds  \n",
       "0        15  \n",
       "1        99  \n",
       "2       107  \n",
       "3        55  \n",
       "4        42  \n",
       "..      ...  \n",
       "56      530  \n",
       "57      462  \n",
       "58      445  \n",
       "59      730  \n",
       "60      909  \n",
       "\n",
       "[61 rows x 7 columns]>"
      ]
     },
     "execution_count": 258,
     "metadata": {},
     "output_type": "execute_result"
    }
   ],
   "source": [
    "# selecting numeric columns\n",
    "num_data = hospital_data.iloc[:, [7,8,9,10,11,12,13]]\n",
    "num_data.info"
   ]
  },
  {
   "cell_type": "code",
   "execution_count": 260,
   "id": "5808a929-4622-4a2a-854b-b069aa21913f",
   "metadata": {},
   "outputs": [
    {
     "data": {
      "text/html": [
       "<div>\n",
       "<style scoped>\n",
       "    .dataframe tbody tr th:only-of-type {\n",
       "        vertical-align: middle;\n",
       "    }\n",
       "\n",
       "    .dataframe tbody tr th {\n",
       "        vertical-align: top;\n",
       "    }\n",
       "\n",
       "    .dataframe thead th {\n",
       "        text-align: right;\n",
       "    }\n",
       "</style>\n",
       "<table border=\"1\" class=\"dataframe\">\n",
       "  <thead>\n",
       "    <tr style=\"text-align: right;\">\n",
       "      <th></th>\n",
       "      <th>NoFTE</th>\n",
       "      <th>NetPatRev</th>\n",
       "      <th>InOperExp</th>\n",
       "      <th>OutOperExp</th>\n",
       "      <th>OperRev</th>\n",
       "      <th>OperInc</th>\n",
       "      <th>AvlBeds</th>\n",
       "    </tr>\n",
       "  </thead>\n",
       "  <tbody>\n",
       "    <tr>\n",
       "      <th>count</th>\n",
       "      <td>61.000000</td>\n",
       "      <td>6.100000e+01</td>\n",
       "      <td>6.100000e+01</td>\n",
       "      <td>6.100000e+01</td>\n",
       "      <td>6.100000e+01</td>\n",
       "      <td>6.100000e+01</td>\n",
       "      <td>61.000000</td>\n",
       "    </tr>\n",
       "    <tr>\n",
       "      <th>mean</th>\n",
       "      <td>1350.264262</td>\n",
       "      <td>6.695836e+05</td>\n",
       "      <td>1.662706e+08</td>\n",
       "      <td>9.015808e+07</td>\n",
       "      <td>2.562733e+08</td>\n",
       "      <td>-1.553491e+05</td>\n",
       "      <td>194.524590</td>\n",
       "    </tr>\n",
       "    <tr>\n",
       "      <th>std</th>\n",
       "      <td>2025.285385</td>\n",
       "      <td>1.097513e+06</td>\n",
       "      <td>2.827876e+08</td>\n",
       "      <td>1.372897e+08</td>\n",
       "      <td>4.249851e+08</td>\n",
       "      <td>7.154457e+07</td>\n",
       "      <td>221.832941</td>\n",
       "    </tr>\n",
       "    <tr>\n",
       "      <th>min</th>\n",
       "      <td>55.000000</td>\n",
       "      <td>1.417224e+04</td>\n",
       "      <td>1.436471e+06</td>\n",
       "      <td>3.787718e+06</td>\n",
       "      <td>5.235317e+06</td>\n",
       "      <td>-3.211633e+08</td>\n",
       "      <td>12.000000</td>\n",
       "    </tr>\n",
       "    <tr>\n",
       "      <th>25%</th>\n",
       "      <td>215.500000</td>\n",
       "      <td>6.579243e+04</td>\n",
       "      <td>1.368450e+07</td>\n",
       "      <td>1.426128e+07</td>\n",
       "      <td>2.416452e+07</td>\n",
       "      <td>-1.108177e+06</td>\n",
       "      <td>42.000000</td>\n",
       "    </tr>\n",
       "    <tr>\n",
       "      <th>50%</th>\n",
       "      <td>374.320000</td>\n",
       "      <td>1.723989e+05</td>\n",
       "      <td>3.184268e+07</td>\n",
       "      <td>3.491622e+07</td>\n",
       "      <td>6.339822e+07</td>\n",
       "      <td>1.572695e+06</td>\n",
       "      <td>99.000000</td>\n",
       "    </tr>\n",
       "    <tr>\n",
       "      <th>75%</th>\n",
       "      <td>1216.000000</td>\n",
       "      <td>5.409751e+05</td>\n",
       "      <td>1.737450e+08</td>\n",
       "      <td>9.306671e+07</td>\n",
       "      <td>1.998738e+08</td>\n",
       "      <td>6.198330e+06</td>\n",
       "      <td>234.000000</td>\n",
       "    </tr>\n",
       "    <tr>\n",
       "      <th>max</th>\n",
       "      <td>8000.000000</td>\n",
       "      <td>4.662582e+06</td>\n",
       "      <td>1.285631e+09</td>\n",
       "      <td>6.621559e+08</td>\n",
       "      <td>1.912179e+09</td>\n",
       "      <td>1.648724e+08</td>\n",
       "      <td>909.000000</td>\n",
       "    </tr>\n",
       "  </tbody>\n",
       "</table>\n",
       "</div>"
      ],
      "text/plain": [
       "             NoFTE     NetPatRev     InOperExp    OutOperExp       OperRev  \\\n",
       "count    61.000000  6.100000e+01  6.100000e+01  6.100000e+01  6.100000e+01   \n",
       "mean   1350.264262  6.695836e+05  1.662706e+08  9.015808e+07  2.562733e+08   \n",
       "std    2025.285385  1.097513e+06  2.827876e+08  1.372897e+08  4.249851e+08   \n",
       "min      55.000000  1.417224e+04  1.436471e+06  3.787718e+06  5.235317e+06   \n",
       "25%     215.500000  6.579243e+04  1.368450e+07  1.426128e+07  2.416452e+07   \n",
       "50%     374.320000  1.723989e+05  3.184268e+07  3.491622e+07  6.339822e+07   \n",
       "75%    1216.000000  5.409751e+05  1.737450e+08  9.306671e+07  1.998738e+08   \n",
       "max    8000.000000  4.662582e+06  1.285631e+09  6.621559e+08  1.912179e+09   \n",
       "\n",
       "            OperInc     AvlBeds  \n",
       "count  6.100000e+01   61.000000  \n",
       "mean  -1.553491e+05  194.524590  \n",
       "std    7.154457e+07  221.832941  \n",
       "min   -3.211633e+08   12.000000  \n",
       "25%   -1.108177e+06   42.000000  \n",
       "50%    1.572695e+06   99.000000  \n",
       "75%    6.198330e+06  234.000000  \n",
       "max    1.648724e+08  909.000000  "
      ]
     },
     "execution_count": 260,
     "metadata": {},
     "output_type": "execute_result"
    }
   ],
   "source": [
    "# inspect summary statistics\n",
    "num_data.describe()"
   ]
  },
  {
   "cell_type": "markdown",
   "id": "76f46264-b112-432a-b5e4-e6f9da11216d",
   "metadata": {},
   "source": [
    "### Principal Component Analysis (PCA)\n",
    "This section of my program conducts a PCA for the 7 numerical variables related to the hospitals. First, I use the eigenvalues to determine which variables should be kept, and then I create a scree plot and see how the results compare. I first do this for the raw, untransformed data, but I end up scaling the data so the models are more accurate. "
   ]
  },
  {
   "cell_type": "code",
   "execution_count": 263,
   "id": "4cd8716e-3da8-4895-83f2-30f1435f6096",
   "metadata": {},
   "outputs": [
    {
     "data": {
      "text/plain": [
       "array([2.75753261e+17, 6.75028311e+15, 2.04591348e+15, 2.44102791e+09,\n",
       "       3.37008097e+05, 6.33647054e+03, 4.13822586e-05])"
      ]
     },
     "execution_count": 263,
     "metadata": {},
     "output_type": "execute_result"
    }
   ],
   "source": [
    "# run the PCA - 7 components  \n",
    "pca_result = pca(n_components=7).fit(num_data)\n",
    "# obtain eigenvalues - focus on the output\n",
    "pca_result.explained_variance_"
   ]
  },
  {
   "cell_type": "code",
   "execution_count": 265,
   "id": "c952b2e9-a52c-4e0a-bc8b-f738a0b7f159",
   "metadata": {},
   "outputs": [
    {
     "data": {
      "image/png": "[encoded data removed]",
      "text/plain": [
       "<Figure size 700x500 with 1 Axes>"
      ]
     },
     "metadata": {},
     "output_type": "display_data"
    }
   ],
   "source": [
    "# generate scree plot - focus on the output\n",
    "plt.figure(figsize=(7,5))\n",
    "plt.plot([1,2,3,4,5,6,7], pca_result.explained_variance_ratio_, '-o')\n",
    "plt.ylabel('Proportion of Variance Explained') \n",
    "plt.xlabel('Principal Component') \n",
    "plt.xlim(0.75,4.25) \n",
    "plt.ylim(0,1.05) \n",
    "plt.xticks([1,2,3,4,5,6,7])\n",
    "\n",
    "plt.show()"
   ]
  },
  {
   "cell_type": "markdown",
   "id": "581436ce-f940-4da7-87ab-d5d14de53813",
   "metadata": {},
   "source": [
    "The results of the scree plot and eigenvalues do not align, and this is likely due to the nature of the data and wide range of values. In order to address this, I scale the data and then perform the PCA. \n",
    "#### Scaling Data"
   ]
  },
  {
   "cell_type": "code",
   "execution_count": 268,
   "id": "200e4d46-4f02-48e7-ad82-639dba24c20e",
   "metadata": {},
   "outputs": [],
   "source": [
    "# scale data using standardization\n",
    "scaler = preprocessing.StandardScaler()\n",
    "scaled_data = scaler.fit_transform(num_data)\n",
    "\n",
    "# run PCA with scaled data\n",
    "pca_result2 = pca(n_components=7).fit(scaled_data)"
   ]
  },
  {
   "cell_type": "code",
   "execution_count": 270,
   "id": "a8961360-262a-494e-a833-3e331729e0a3",
   "metadata": {},
   "outputs": [
    {
     "data": {
      "text/plain": [
       "array([5.72134563e+00, 1.07657967e+00, 1.91383827e-01, 9.31699632e-02,\n",
       "       3.29143500e-02, 1.27322677e-03, 5.91420738e-22])"
      ]
     },
     "execution_count": 270,
     "metadata": {},
     "output_type": "execute_result"
    }
   ],
   "source": [
    "# obtain eigenvalues - focus on the output\n",
    "pca_result2.explained_variance_"
   ]
  },
  {
   "cell_type": "markdown",
   "id": "67c6838d-73d3-4418-9f90-e95ce43cfbd4",
   "metadata": {},
   "source": [
    "The results from the eigenvalues suggest that from these 7 numerical variables, only 2 should be used for the analysis. We know this because there are only two components that are greater than 1. What this assessment tells us, is that in reality we are only dealing with 3 variables. Now, we turn to the scree plot to see if this assessment gives the same results. "
   ]
  },
  {
   "cell_type": "code",
   "execution_count": 273,
   "id": "0789d398-6631-4a7d-8936-839cf0a58b4a",
   "metadata": {},
   "outputs": [
    {
     "data": {
      "image/png": "[encoded data removed]",
      "text/plain": [
       "<Figure size 700x500 with 1 Axes>"
      ]
     },
     "metadata": {},
     "output_type": "display_data"
    }
   ],
   "source": [
    "# generate scree plot - focus on the output\n",
    "plt.figure(figsize=(7,5))\n",
    "plt.plot([1,2,3,4,5,6,7], pca_result2.explained_variance_ratio_, '-o')\n",
    "plt.ylabel('Proportion of Variance Explained') \n",
    "plt.xlabel('Principal Component') \n",
    "plt.xlim(0.75,4.25) \n",
    "plt.ylim(0,1.05) \n",
    "plt.xticks([1,2,3,4,5,6,7])\n",
    "\n",
    "plt.show()"
   ]
  },
  {
   "cell_type": "markdown",
   "id": "1e92eb89-9b42-434b-bd5b-7d6d5f750420",
   "metadata": {},
   "source": [
    "The results from the scree plot above are consistent with those from the eigenvalues. We can see that the first 2 components are not flat. Starting with `Component 3` you can see the plot is level and flat. This suggests that out of 7 variables, only 2 should be used for the analysis. This means that some combination of all 7 variables should yield just 2."
   ]
  },
  {
   "cell_type": "markdown",
   "id": "c4be4d6e-8514-49ca-9d0e-fe067457a9c7",
   "metadata": {},
   "source": [
    "### Clustering in Python- Setup\n",
    "This section of my program uses the numerical variables related to hospitals and the following three categorical variables to  conduct a *k*-means cluster analysis:\n",
    "\n",
    "* `TypeControl`\n",
    "* `Teaching`\n",
    "* `DonorType`\n",
    "\n",
    "This helps us determine which categorical variable is the best grouping variable. "
   ]
  },
  {
   "cell_type": "code",
   "execution_count": 277,
   "id": "162192d9-6898-4abf-a218-3fb49c21f4d3",
   "metadata": {},
   "outputs": [
    {
     "name": "stdout",
     "output_type": "stream",
     "text": [
      "<class 'pandas.core.frame.DataFrame'>\n",
      "RangeIndex: 61 entries, 0 to 60\n",
      "Data columns (total 10 columns):\n",
      " #   Column       Non-Null Count  Dtype  \n",
      "---  ------       --------------  -----  \n",
      " 0   NoFTE        61 non-null     float64\n",
      " 1   NetPatRev    61 non-null     float64\n",
      " 2   InOperExp    61 non-null     float64\n",
      " 3   OutOperExp   61 non-null     float64\n",
      " 4   OperRev      61 non-null     int64  \n",
      " 5   OperInc      61 non-null     int64  \n",
      " 6   AvlBeds      61 non-null     int64  \n",
      " 7   Teaching     61 non-null     object \n",
      " 8   TypeControl  61 non-null     object \n",
      " 9   DonorType    61 non-null     object \n",
      "dtypes: float64(4), int64(3), object(3)\n",
      "memory usage: 4.9+ KB\n"
     ]
    }
   ],
   "source": [
    "# subset numerical variables and categorical variables\n",
    "clust_data = (hospital_data\n",
    "              .filter([\n",
    "                  'NoFTE','NetPatRev','InOperExp','OutOperExp','OperRev','OperInc','AvlBeds',\n",
    "                  'Teaching', 'TypeControl', 'DonorType'\n",
    "              ]))\n",
    "clust_data.info()"
   ]
  },
  {
   "cell_type": "code",
   "execution_count": 279,
   "id": "0380bf22-9345-40fd-8dcc-22d142033e16",
   "metadata": {},
   "outputs": [
    {
     "name": "stdout",
     "output_type": "stream",
     "text": [
      "['Small/Rural' 'Teaching']\n",
      "['District' 'Non Profit' 'Investor' 'City/County']\n",
      "['Charity' 'Alumni']\n"
     ]
    }
   ],
   "source": [
    "# inspect unique values for categorical variables\n",
    "print(hospital_data['Teaching'].unique())\n",
    "print(hospital_data['TypeControl'].unique())\n",
    "print(hospital_data['DonorType'].unique())"
   ]
  },
  {
   "cell_type": "code",
   "execution_count": 281,
   "id": "fae08710-8b6f-41df-888e-523d074d0509",
   "metadata": {},
   "outputs": [],
   "source": [
    "le = preprocessing.LabelEncoder()"
   ]
  },
  {
   "cell_type": "markdown",
   "id": "07d26ae2-b665-42a9-acbf-9f0de5a08d99",
   "metadata": {},
   "source": [
    "### 2 Clusters for `Teaching`\n",
    "This section of my program focuses on the `Teaching` variable. *Teaching* has two values, so will start the clustering analysis with $k=2$ or `n_clusters=2`."
   ]
  },
  {
   "cell_type": "code",
   "execution_count": 319,
   "id": "625cca11-8f1b-44b5-9c49-86e3e3da6006",
   "metadata": {},
   "outputs": [
    {
     "name": "stdout",
     "output_type": "stream",
     "text": [
      "[[ 0 44]\n",
      " [ 9  8]]\n"
     ]
    }
   ],
   "source": [
    "km = cls.KMeans(n_clusters=2).fit(num_data)\n",
    "km.labels_\n",
    "\n",
    "clust_data['Teaching'] = le.fit_transform(clust_data['Teaching'])\n",
    "\n",
    "cm1 = metcs.confusion_matrix(clust_data.Teaching, km.labels_)\n",
    "print(cm1)"
   ]
  },
  {
   "cell_type": "markdown",
   "id": "c3c28e04-926f-4a50-88b5-b8ed3886243d",
   "metadata": {},
   "source": [
    "### 4 Clusters for `TypeControl`\n",
    "This section of my program focuses on the `TypeControl` variable. This variable has 4 values, so we will use 4 potential clusters, $k=4$ or `n_clusters=4`."
   ]
  },
  {
   "cell_type": "code",
   "execution_count": 322,
   "id": "6f942e9c-5c81-4c08-b6cd-aa27240298be",
   "metadata": {},
   "outputs": [
    {
     "name": "stdout",
     "output_type": "stream",
     "text": [
      "[[ 3  0  2  2]\n",
      " [14  0  0  0]\n",
      " [ 3  0  0  0]\n",
      " [27  3  7  0]]\n"
     ]
    }
   ],
   "source": [
    "clust_data.TypeControl.unique()\n",
    "\n",
    "km2 = cls.KMeans(n_clusters=4).fit(num_data)\n",
    "km2.labels_\n",
    "\n",
    "clust_data['TypeControl'] = le.fit_transform(clust_data['TypeControl'])\n",
    "\n",
    "cm2 = metcs.confusion_matrix(clust_data.TypeControl, km2.labels_)\n",
    "print(cm2)"
   ]
  },
  {
   "cell_type": "markdown",
   "id": "4790cfc5-cad2-4421-862d-4bf0510190bd",
   "metadata": {},
   "source": [
    "### 2 Clusters for `DonorType`\n",
    "This section of my program focuses on the `DonorType` variable. This variable has 6 values, so we will use 6 potential clusters, $k=6$ or `n_clusters=6`."
   ]
  },
  {
   "cell_type": "code",
   "execution_count": 325,
   "id": "24b4f82d-de4e-4d1f-80ab-4d0cbed6105d",
   "metadata": {},
   "outputs": [
    {
     "name": "stdout",
     "output_type": "stream",
     "text": [
      "[[ 8  9]\n",
      " [44  0]]\n"
     ]
    }
   ],
   "source": [
    "clust_data.DonorType.unique()\n",
    "\n",
    "km3 = cls.KMeans(n_clusters=2).fit(num_data)\n",
    "km3.labels_\n",
    "\n",
    "clust_data['DonorType'] = le.fit_transform(clust_data['DonorType'])\n",
    "\n",
    "cm3 = metcs.confusion_matrix(clust_data.DonorType, km3.labels_)\n",
    "print(cm3)"
   ]
  },
  {
   "cell_type": "markdown",
   "id": "3569faea-bdea-4bbc-9497-a3bef8127686",
   "metadata": {},
   "source": [
    "### Evaluating Grouping Variable and Confusion Matrix\n",
    "This section of my program compares the three different clustering methods based on the grouping variables of `Teaching`, `TypeControl`, and `DonorType`. "
   ]
  },
  {
   "cell_type": "code",
   "execution_count": 328,
   "id": "f0411a92-e588-473e-a939-e5989b3b6e52",
   "metadata": {},
   "outputs": [
    {
     "name": "stdout",
     "output_type": "stream",
     "text": [
      "Teaching\n",
      " [[ 0 44]\n",
      " [ 9  8]]\n",
      "TypeControl\n",
      " [[ 3  0  2  2]\n",
      " [14  0  0  0]\n",
      " [ 3  0  0  0]\n",
      " [27  3  7  0]]\n",
      "DonorType\n",
      " [[ 8  9]\n",
      " [44  0]]\n"
     ]
    }
   ],
   "source": [
    "# ouput of all 3 methods\n",
    "print(\"Teaching\\n\", cm1)\n",
    "print(\"TypeControl\\n\",cm2)\n",
    "print(\"DonorType\\n\",cm3)"
   ]
  },
  {
   "cell_type": "markdown",
   "id": "a529a39f-d1ba-4c77-9312-3581d64caf5b",
   "metadata": {},
   "source": [
    "From the output above, it seems that the Teaching variable is the best grouping variable based on the cleanliness of the matricies. This also goes along with the results from the PCA that 2 variables should be used for analysis. Below, I ouput the colored chart for this Teaching confusion matrix. The yellow standout color represents the \"44\" being very different compared to other data values in this matrix. "
   ]
  },
  {
   "cell_type": "code",
   "execution_count": 331,
   "id": "b4178f0b-9235-456b-9d58-3c122812029c",
   "metadata": {},
   "outputs": [
    {
     "data": {
      "image/png": "[encoded data removed]",
      "text/plain": [
       "<Figure size 480x480 with 1 Axes>"
      ]
     },
     "metadata": {},
     "output_type": "display_data"
    }
   ],
   "source": [
    "# color-based chart\n",
    "plt.matshow(cm1)\n",
    "plt.title('Confusion Matrix')\n",
    "plt.ylabel('Actual Value')\n",
    "plt.xlabel('Predicted Value')\n",
    "plt.xticks([0,1], ['Small/Rural','Teaching'])\n",
    "\n",
    "plt.show()"
   ]
  },
  {
   "cell_type": "markdown",
   "id": "7ec5e8bf-dad8-4229-a0b9-812c10bc4cdb",
   "metadata": {},
   "source": [
    "### Lab Complete!"
   ]
  }
 ],
 "metadata": {
  "kernelspec": {
   "display_name": "Python [conda env:base] *",
   "language": "python",
   "name": "conda-base-py"
  },
  "language_info": {
   "codemirror_mode": {
    "name": "ipython",
    "version": 3
   },
   "file_extension": ".py",
   "mimetype": "text/x-python",
   "name": "python",
   "nbconvert_exporter": "python",
   "pygments_lexer": "ipython3",
   "version": "3.12.7"
  }
 },
 "nbformat": 4,
 "nbformat_minor": 5
}
